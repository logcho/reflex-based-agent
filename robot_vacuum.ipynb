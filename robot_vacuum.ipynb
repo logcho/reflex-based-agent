{
  "cells": [
    {
      "cell_type": "markdown",
      "metadata": {
        "id": "EVIhKmFuE0lA"
      },
      "source": [
        "# Intelligent Agents: Reflex-Based Agents for the Vacuum-cleaner World\n",
        "\n",
        "Student Name: Logan Choi\n",
        "\n",
        "I have used the following AI tools: ChatGPT\n",
        "\n",
        "I understand that my submission needs to be my own work: LC\n",
        "\n",
        "## Instructions\n",
        "\n",
        "Total Points: Undergrads 100 + 5 bonus / Graduate students 110\n",
        "\n",
        "Complete this notebook. Use the provided notebook cells and insert additional code and markdown cells as needed. Submit the completely rendered notebook as a HTML file.\n",
        "\n",
        "### Using Visual Studio Code\n",
        "\n",
        "If you use VS code then you can use `Export` (click on `...` in the menu bar) to save your notebook as a HTML file. Note that you have to run all blocks before so the HTML file contains your output.\n",
        "\n",
        "### Using Google Colab\n",
        "\n",
        "In Colab you need to save the notebook on GoogleDrive to work with it. For this you need to mount your google dive and change to the correct directory by uncommenting the following lines and running the code block."
      ]
    },
    {
      "cell_type": "code",
      "execution_count": 21,
      "metadata": {
        "id": "jLdRGZEoE0lA"
      },
      "outputs": [],
      "source": [
        "# from google.colab import drive\n",
        "# import os\n",
        "#\n",
        "# drive.mount('/content/drive')\n",
        "# os.chdir('/content/drive/My Drive/Colab Notebooks/')"
      ]
    },
    {
      "cell_type": "markdown",
      "metadata": {
        "id": "O1RlGEUME0lB"
      },
      "source": [
        "Once you are done with the assignment and have run all code blocks using `Runtime/Run all`, you can convert the file on your GoogleDrive into HTML be uncommenting the following line and running the block."
      ]
    },
    {
      "cell_type": "code",
      "execution_count": 22,
      "metadata": {
        "id": "ij3Drg3FE0lB"
      },
      "outputs": [],
      "source": [
        "# !jupyter nbconvert --to html Copy\\ of\\ robot_vacuum.ipynb"
      ]
    },
    {
      "cell_type": "markdown",
      "metadata": {
        "id": "xZ6v_e-DE0lB"
      },
      "source": [
        "You may have to fix the file location or the file name to match how it looks on your GoogleDrive. You can navigate in Colab to your GoogleDrive using the little folder symbol in the navigation bar to the left."
      ]
    },
    {
      "cell_type": "markdown",
      "metadata": {
        "id": "jpmioN3tE0lB"
      },
      "source": [
        "## Introduction\n",
        "\n",
        "In this assignment you will implement a simulator environment for an automatic vacuum cleaner robot, a set of different reflex-based agent programs, and perform a comparison study for cleaning a single room. Focus on the __cleaning phase__ which starts when the robot is activated and ends when the last dirty square in the room has been cleaned. Someone else will take care of the agent program needed to navigate back to the charging station after the room is clean.\n",
        "\n",
        "## PEAS description of the cleaning phase\n",
        "\n",
        "__Performance Measure:__ Each action costs 1 energy unit. The performance is measured as the sum of the energy units used to clean the whole room.\n",
        "\n",
        "__Environment:__ A room with $n \\times n$ squares where $n = 5$. Dirt is randomly placed on each square with probability $p = 0.2$. For simplicity, you can assume that the agent knows the size and the layout of the room (i.e., it knows $n$). To start, the agent is placed on a random square.\n",
        "\n",
        "__Actuators:__ The agent can clean the current square (action `suck`) or move to an adjacent square by going `north`, `east`, `south`, or `west`.\n",
        "\n",
        "__Sensors:__ Four bumper sensors, one for north, east, south, and west; a dirt sensor reporting dirt in the current square.  \n",
        "\n",
        "\n",
        "## The agent program for a simple randomized agent\n",
        "\n",
        "The agent program is a function that gets sensor information (the current percepts) as the arguments. The arguments are:\n",
        "\n",
        "* A dictionary with boolean entries for the for bumper sensors `north`, `east`, `west`, `south`. E.g., if the agent is on the north-west corner, `bumpers` will be `{\"north\" : True, \"east\" : False, \"south\" : False, \"west\" : True}`.\n",
        "* The dirt sensor produces a boolean.\n",
        "\n",
        "The agent returns the chosen action as a string.\n",
        "\n",
        "Here is an example implementation for the agent program of a simple randomized agent:  "
      ]
    },
    {
      "cell_type": "code",
      "execution_count": 23,
      "metadata": {
        "id": "GeyipTgZE0lB"
      },
      "outputs": [],
      "source": [
        "# make sure numpy is installed\n",
        "!pip install -q numpy"
      ]
    },
    {
      "cell_type": "code",
      "execution_count": 24,
      "metadata": {
        "id": "cTUhfZ9fE0lB"
      },
      "outputs": [],
      "source": [
        "import numpy as np\n",
        "\n",
        "actions = [\"north\", \"east\", \"west\", \"south\", \"suck\"]\n",
        "\n",
        "def simple_randomized_agent(bumpers, dirty):\n",
        "    return np.random.choice(actions)"
      ]
    },
    {
      "cell_type": "code",
      "execution_count": 25,
      "metadata": {
        "id": "2EG7T3OnE0lC",
        "outputId": "abc2fbb2-509c-41e7-e410-e2973de73fe5"
      },
      "outputs": [
        {
          "data": {
            "text/plain": [
              "np.str_('east')"
            ]
          },
          "execution_count": 25,
          "metadata": {},
          "output_type": "execute_result"
        }
      ],
      "source": [
        "# define percepts (current location is NW corner and it is dirty)\n",
        "bumpers = {\"north\" : True, \"east\" : False, \"south\" : False, \"west\" : True}\n",
        "dirty = True\n",
        "\n",
        "# call agent program function with percepts and it returns an action\n",
        "simple_randomized_agent(bumpers, dirty)"
      ]
    },
    {
      "cell_type": "markdown",
      "metadata": {
        "id": "PDERAR1GE0lC"
      },
      "source": [
        "__Note:__ This is not a rational intelligent agent. It ignores its sensors and may bump into a wall repeatedly or not clean a dirty square. You will be asked to implement rational agents below."
      ]
    },
    {
      "cell_type": "markdown",
      "metadata": {
        "id": "MhxH1DGJE0lC"
      },
      "source": [
        "## Simple environment example\n",
        "\n",
        "We implement a simple simulation environment that supplies the agent with its percepts.\n",
        "The simple environment is infinite in size (bumpers are always `False`) and every square is always dirty, even if the agent cleans it. The environment function returns a different performance measure than the one specified in the PEAS description! Since the room is infinite and all squares are constantly dirty, the agent can never clean the whole room. Your implementation needs to implement the **correct performance measure.** The energy budget of the agent is specified as `max_steps`."
      ]
    },
    {
      "cell_type": "code",
      "execution_count": 26,
      "metadata": {
        "id": "S37gIwS8E0lC"
      },
      "outputs": [],
      "source": [
        "def simple_environment(agent_function, max_steps, verbose = True):\n",
        "    num_cleaned = 0\n",
        "\n",
        "    for i in range(max_steps):\n",
        "        dirty = True\n",
        "        bumpers = {\"north\" : False, \"south\" : False, \"west\" : False, \"east\" : False}\n",
        "\n",
        "        action = agent_function(bumpers, dirty)\n",
        "        if (verbose): print(\"step\", i , \"- action:\", action)\n",
        "\n",
        "        if (action == \"suck\"):\n",
        "            num_cleaned = num_cleaned + 1\n",
        "\n",
        "    return num_cleaned\n",
        "\n"
      ]
    },
    {
      "cell_type": "markdown",
      "metadata": {
        "id": "FjSCaw_aE0lC"
      },
      "source": [
        "Do one simulation run with a simple randomized agent that has enough energy for 20 steps."
      ]
    },
    {
      "cell_type": "code",
      "execution_count": 39,
      "metadata": {
        "id": "YudqehVFE0lC",
        "outputId": "31c52635-b4f6-469d-930d-5201bb76ccce"
      },
      "outputs": [
        {
          "name": "stdout",
          "output_type": "stream",
          "text": [
            "step 0 - action: south\n",
            "step 1 - action: west\n",
            "step 2 - action: east\n",
            "step 3 - action: east\n",
            "step 4 - action: south\n",
            "step 5 - action: south\n",
            "step 6 - action: west\n",
            "step 7 - action: east\n",
            "step 8 - action: suck\n",
            "step 9 - action: west\n",
            "step 10 - action: north\n",
            "step 11 - action: west\n",
            "step 12 - action: north\n",
            "step 13 - action: east\n",
            "step 14 - action: south\n",
            "step 15 - action: east\n",
            "step 16 - action: suck\n",
            "step 17 - action: suck\n",
            "step 18 - action: south\n",
            "step 19 - action: west\n"
          ]
        },
        {
          "data": {
            "text/plain": [
              "3"
            ]
          },
          "execution_count": 39,
          "metadata": {},
          "output_type": "execute_result"
        }
      ],
      "source": [
        "simple_environment(simple_randomized_agent, max_steps = 20)"
      ]
    },
    {
      "cell_type": "markdown",
      "metadata": {
        "id": "IH1ACGtME0lC"
      },
      "source": [
        "# Tasks\n",
        "\n",
        "## General [10 Points]\n",
        "\n",
        "1. Make sure that you use the latest version of this notebook.\n",
        "2. Your implementation can use libraries like math, numpy, scipy, but not libraries that implement intelligent agents or complete search algorithms. Try to keep the code simple! In this course, we want to learn about the algorithms and we often do not need to use object-oriented design.\n",
        "3. You notebook needs to be formatted professionally.\n",
        "    - Add additional markdown blocks for your description, comments in the code, add tables and use mathplotlib to produce charts where appropriate\n",
        "    - Do not show debugging output or include an excessive amount of output.\n",
        "    - Check that your submitted file is readable and contains all figures.\n",
        "4. Document your code. Use comments in the code and add a discussion of how your implementation works and your design choices.\n",
        "\n",
        "\n",
        "## Task 1: Implement a simulation environment [20 Points]\n",
        "\n",
        "The simple environment above is not very realistic. Your environment simulator needs to follow the PEAS description from above. It needs to:\n",
        "\n",
        "* Initialize the environment by storing the state of each square (clean/dirty) and making some dirty. ([Help with random numbers and arrays in Python](https://github.com/mhahsler/CS7320-AI/blob/master/HOWTOs/random_numbers_and_arrays.ipynb))\n",
        "* Keep track of the agent's position.\n",
        "* Call the agent function repeatedly and provide the agent function with the sensor inputs.  \n",
        "* React to the agent's actions. E.g, by removing dirt from a square or moving the agent around unless there is a wall in the way.\n",
        "* Keep track of the performance measure. That is, track the agent's actions until all dirty squares are clean and count the number of actions it takes the agent to complete the task.\n",
        "\n",
        "The easiest implementation for the environment is to hold an 2-dimensional array to represent if squares are clean or dirty and to call the agent function in a loop until all squares are clean or a predefined number of steps have been reached (i.e., the robot runs out of energy).\n",
        "\n",
        "The simulation environment should be a function like the `simple_environment()` and needs to work with the simple randomized agent program from above. **Use the same environment for all your agent implementations in the tasks below.**\n",
        "\n",
        "*Note on debugging:* Debugging is difficult. Make sure your environment prints enough information when you use `verbose = True`. Also, implementing a function that the environment can use to displays the room with dirt and the current position of the robot at every step is very useful.  "
      ]
    },
    {
      "cell_type": "code",
      "execution_count": 207,
      "metadata": {
        "id": "K_A0FefmE0lC"
      },
      "outputs": [],
      "source": [
        "def environment(agent_function, max_steps, verbose=True, n=5, p=0.2):\n",
        "    num_cleaned = 0\n",
        "    steps = 0\n",
        "    # Initialize room: 0 = clean, 1 = dirty\n",
        "    room = np.random.choice([0, 1], size=(n, n), p=[1 - p, p])\n",
        "\n",
        "    # Random starting position\n",
        "    agent_position = (np.random.randint(0, n), np.random.randint(0, n))\n",
        "\n",
        "    if verbose:\n",
        "        print(\"Initial Room State:\\n\", room)\n",
        "\n",
        "    while np.any(room == 1) and steps < max_steps:  # Ensure steps increments properly\n",
        "        x, y = agent_position\n",
        "        dirty = room[x, y] == 1  # Check if the current tile is dirty\n",
        "        bumpers = {\n",
        "            \"north\": x == 0,\n",
        "            \"south\": x == n - 1,\n",
        "            \"west\": y == 0,\n",
        "            \"east\": y == n - 1\n",
        "        }\n",
        "\n",
        "        action = agent_function(bumpers, dirty)\n",
        "\n",
        "        # Perform action\n",
        "        if action == \"suck\" and dirty:\n",
        "            room[x, y] = 0\n",
        "            num_cleaned += 1\n",
        "        elif action == \"north\" and not bumpers[\"north\"]:\n",
        "            agent_position = (x - 1, y)\n",
        "        elif action == \"south\" and not bumpers[\"south\"]:\n",
        "            agent_position = (x + 1, y)\n",
        "        elif action == \"west\" and not bumpers[\"west\"]:\n",
        "            agent_position = (x, y - 1)\n",
        "        elif action == \"east\" and not bumpers[\"east\"]:\n",
        "            agent_position = (x, y + 1)\n",
        "\n",
        "        steps += 1  # Increment step count\n",
        "\n",
        "        if verbose:\n",
        "            print(f\"Step {steps}: Action={action}, Position={agent_position}, Cleaned={num_cleaned}\")\n",
        "\n",
        "        if num_cleaned == np.sum(room == 1):  # Stop when the room is completely clean\n",
        "            break\n",
        "\n",
        "    return num_cleaned, steps\n"
      ]
    },
    {
      "cell_type": "code",
      "execution_count": 225,
      "metadata": {
        "id": "aUIcwWfpE0lC"
      },
      "outputs": [
        {
          "name": "stdout",
          "output_type": "stream",
          "text": [
            "Initial Room State:\n",
            " [[0 0 1 0 0]\n",
            " [0 0 0 0 0]\n",
            " [0 0 1 0 0]\n",
            " [1 0 0 0 0]\n",
            " [1 0 0 0 1]]\n",
            "Step 1: Action=east, Position=(2, 4), Cleaned=0\n",
            "Step 2: Action=west, Position=(2, 3), Cleaned=0\n",
            "Step 3: Action=south, Position=(3, 3), Cleaned=0\n",
            "Step 4: Action=south, Position=(4, 3), Cleaned=0\n",
            "Step 5: Action=west, Position=(4, 2), Cleaned=0\n",
            "Step 6: Action=north, Position=(3, 2), Cleaned=0\n",
            "Step 7: Action=east, Position=(3, 3), Cleaned=0\n",
            "Step 8: Action=south, Position=(4, 3), Cleaned=0\n",
            "Step 9: Action=east, Position=(4, 4), Cleaned=0\n",
            "Step 10: Action=suck, Position=(4, 4), Cleaned=1\n"
          ]
        },
        {
          "data": {
            "text/plain": [
              "(1, 10)"
            ]
          },
          "execution_count": 225,
          "metadata": {},
          "output_type": "execute_result"
        }
      ],
      "source": [
        "# Your code and description goes here\n",
        "environment(simple_randomized_agent, max_steps = 10)"
      ]
    },
    {
      "cell_type": "markdown",
      "metadata": {
        "id": "mtftNtq3E0lC"
      },
      "source": [
        "## Task 2:  Implement a simple reflex agent [10 Points]\n",
        "\n",
        "The simple reflex agent randomly walks around but reacts to the bumper sensor by not bumping into the wall and to dirt with sucking. Implement the agent program as a function.\n",
        "\n",
        "_Note:_ Agents cannot directly use variable in the environment. They only gets the percepts as the arguments to the agent function. Use the function signature for the `simple_randomized_agent` function above."
      ]
    },
    {
      "cell_type": "code",
      "execution_count": 209,
      "metadata": {
        "id": "5G3T_-K6E0lC"
      },
      "outputs": [],
      "source": [
        "# Your code and description goes here\n",
        "def simple_reflex_agent(bumpers, dirty):\n",
        "    \"\"\"A simple reflex agent that sucks dirt when detected or moves randomly while avoiding walls.\"\"\"\n",
        "    if dirty:\n",
        "        return \"suck\"\n",
        "    \n",
        "    # Choose a random movement that is not blocked by a bumper\n",
        "    possible_moves = [action for action in [\"north\", \"east\", \"west\", \"south\"] if not bumpers[action]]\n",
        "    \n",
        "    return np.random.choice(possible_moves) if possible_moves else \"suck\"  # Default to \"suck\" if stuck"
      ]
    },
    {
      "cell_type": "markdown",
      "metadata": {
        "id": "p5KLtsUoE0lC"
      },
      "source": [
        "Show how the agent works with your environment."
      ]
    },
    {
      "cell_type": "code",
      "execution_count": 210,
      "metadata": {
        "id": "AvvqCufHE0lD"
      },
      "outputs": [
        {
          "name": "stdout",
          "output_type": "stream",
          "text": [
            "Initial Room State:\n",
            " [[1 0 1 0 0]\n",
            " [0 0 0 0 0]\n",
            " [1 0 0 0 0]\n",
            " [1 1 0 0 0]\n",
            " [0 0 0 0 0]]\n",
            "Step 1: Action=west, Position=(0, 3), Cleaned=0\n",
            "Step 2: Action=west, Position=(0, 2), Cleaned=0\n",
            "Step 3: Action=suck, Position=(0, 2), Cleaned=1\n",
            "Step 4: Action=south, Position=(1, 2), Cleaned=1\n",
            "Step 5: Action=east, Position=(1, 3), Cleaned=1\n",
            "Step 6: Action=west, Position=(1, 2), Cleaned=1\n",
            "Step 7: Action=north, Position=(0, 2), Cleaned=1\n",
            "Step 8: Action=south, Position=(1, 2), Cleaned=1\n",
            "Step 9: Action=east, Position=(1, 3), Cleaned=1\n",
            "Step 10: Action=west, Position=(1, 2), Cleaned=1\n"
          ]
        },
        {
          "data": {
            "text/plain": [
              "(1, 10)"
            ]
          },
          "execution_count": 210,
          "metadata": {},
          "output_type": "execute_result"
        }
      ],
      "source": [
        "# Your code and description goes here\n",
        "environment(simple_reflex_agent, max_steps = 10)"
      ]
    },
    {
      "cell_type": "markdown",
      "metadata": {
        "id": "EPuleFSuE0lD"
      },
      "source": [
        "## Task 3: Implement a model-based reflex agent [20 Points]\n",
        "\n",
        "Model-based agents use a state to keep track of what they have done and perceived so far. Your agent needs to find out where it is located and then keep track of its current location. You also need a set of rules based on the state and the percepts to make sure that the agent will clean the whole room. For example, the agent can move to a corner to determine its location and then it can navigate through the whole room and clean dirty squares.\n",
        "\n",
        "Describe how you define the __agent state__ and how your agent works before implementing it. ([Help with implementing state information on Python](https://github.com/mhahsler/CS7320-AI/blob/master/HOWTOs/store_agent_state_information.ipynb))"
      ]
    },
    {
      "cell_type": "code",
      "execution_count": 244,
      "metadata": {
        "id": "xOhQ6SqTE0lD"
      },
      "outputs": [],
      "source": [
        "# Your short description of the state and your implementation goes here\n",
        "def model_based_reflex_agent(bumpers, dirty):\n",
        "    global agent_state\n",
        "    x, y = agent_state[\"position\"]\n",
        "    \n",
        "    # If the current tile is dirty, clean it\n",
        "    if dirty:\n",
        "        agent_state[\"dirty_tiles\"].discard((x, y))\n",
        "        return \"suck\"\n",
        "    \n",
        "    # Mark the tile as visited\n",
        "    agent_state[\"visited\"].add((x, y))\n",
        "    \n",
        "    # Move strategically: Explore unvisited tiles first\n",
        "    for direction, condition in bumpers.items():\n",
        "        new_position = move_in_direction(x, y, direction)\n",
        "        if not condition and new_position not in agent_state[\"visited\"]:\n",
        "            agent_state[\"position\"] = new_position\n",
        "            return direction\n",
        "    \n",
        "    # If all nearby tiles are visited, move systematically (e.g., zigzag pattern)\n",
        "    possible_moves = [d for d in [\"east\", \"south\", \"west\", \"north\"] if not bumpers[d]]\n",
        "    if possible_moves:\n",
        "        chosen_move = possible_moves[0]\n",
        "        agent_state[\"position\"] = move_in_direction(x, y, chosen_move)\n",
        "        return chosen_move\n",
        "    \n",
        "    return \"suck\"  # If completely stuck, default to sucking (although the tile should already be clean)\n",
        "\n",
        "\n",
        "def move_in_direction(x, y, direction):\n",
        "    if direction == \"north\":\n",
        "        return (x - 1, y)\n",
        "    elif direction == \"south\":\n",
        "        return (x + 1, y)\n",
        "    elif direction == \"west\":\n",
        "        return (x, y - 1)\n",
        "    elif direction == \"east\":\n",
        "        return (x, y + 1)\n",
        "    return (x, y)  # No movement if invalid direction\n",
        "\n",
        "\n",
        "# Initialize the agent's state\n",
        "def reset_agent_state(n):\n",
        "    global agent_state\n",
        "    agent_state = {\n",
        "        \"position\": (np.random.randint(0, n), np.random.randint(0, n)),\n",
        "        \"visited\": set(),\n",
        "        \"dirty_tiles\": set()\n",
        "    }\n",
        "\n",
        "\n"
      ]
    },
    {
      "cell_type": "markdown",
      "metadata": {
        "id": "2F7F9UsJE0lD"
      },
      "source": [
        "Show how the agent works with your environment."
      ]
    },
    {
      "cell_type": "code",
      "execution_count": 254,
      "metadata": {
        "id": "vDmBpEiCE0lD"
      },
      "outputs": [
        {
          "name": "stdout",
          "output_type": "stream",
          "text": [
            "Initial Room State:\n",
            " [[0 0 0 1 0]\n",
            " [0 1 0 0 0]\n",
            " [1 1 0 1 0]\n",
            " [0 1 0 0 0]\n",
            " [0 1 0 0 0]]\n",
            "Step 1: Action=south, Position=(1, 2), Cleaned=0\n",
            "Step 2: Action=south, Position=(2, 2), Cleaned=0\n",
            "Step 3: Action=south, Position=(3, 2), Cleaned=0\n",
            "Step 4: Action=south, Position=(4, 2), Cleaned=0\n",
            "Step 5: Action=west, Position=(4, 1), Cleaned=0\n",
            "Step 6: Action=suck, Position=(4, 1), Cleaned=1\n",
            "Step 7: Action=north, Position=(3, 1), Cleaned=1\n",
            "Step 8: Action=suck, Position=(3, 1), Cleaned=2\n",
            "Step 9: Action=north, Position=(2, 1), Cleaned=2\n",
            "Step 10: Action=suck, Position=(2, 1), Cleaned=3\n",
            "Step 11: Action=north, Position=(1, 1), Cleaned=3\n",
            "Step 12: Action=suck, Position=(1, 1), Cleaned=4\n",
            "Step 13: Action=north, Position=(0, 1), Cleaned=4\n",
            "Step 14: Action=west, Position=(0, 0), Cleaned=4\n",
            "Step 15: Action=south, Position=(1, 0), Cleaned=4\n",
            "Step 16: Action=south, Position=(2, 0), Cleaned=4\n",
            "Step 17: Action=suck, Position=(2, 0), Cleaned=5\n",
            "Step 18: Action=south, Position=(3, 0), Cleaned=5\n",
            "Step 19: Action=south, Position=(4, 0), Cleaned=5\n",
            "Step 20: Action=east, Position=(4, 1), Cleaned=5\n",
            "Step 21: Action=east, Position=(4, 2), Cleaned=5\n",
            "Step 22: Action=east, Position=(4, 3), Cleaned=5\n",
            "Step 23: Action=north, Position=(3, 3), Cleaned=5\n",
            "Step 24: Action=north, Position=(2, 3), Cleaned=5\n",
            "Step 25: Action=suck, Position=(2, 3), Cleaned=6\n",
            "Step 26: Action=north, Position=(1, 3), Cleaned=6\n",
            "Step 27: Action=north, Position=(0, 3), Cleaned=6\n",
            "Step 28: Action=suck, Position=(0, 3), Cleaned=7\n"
          ]
        },
        {
          "data": {
            "text/plain": [
              "(7, 28)"
            ]
          },
          "execution_count": 254,
          "metadata": {},
          "output_type": "execute_result"
        }
      ],
      "source": [
        "# Your code goes here\n",
        "# Example usage\n",
        "n = 5  # Grid size\n",
        "reset_agent_state(n)\n",
        "environment(model_based_reflex_agent, max_steps=100, verbose=True, n=n, p=0.2)"
      ]
    },
    {
      "cell_type": "markdown",
      "metadata": {
        "id": "zCyPpvPTE0lD"
      },
      "source": [
        "## Task 4: Simulation study [30 Points]\n",
        "\n",
        "Compare the performance (the performance measure is defined in the PEAS description above) of the agents using  environments of different size. Do at least $5 \\times 5$, $10 \\times 10$ and\n",
        "$100 \\times 100$. Use 100 random runs for each. Present the results using tables and graphs. Discuss the differences between the agents.\n",
        "([Help with charts and tables in Python](https://github.com/mhahsler/CS7320-AI/blob/master/HOWTOs/charts_and_tables.ipynb))"
      ]
    },
    {
      "cell_type": "code",
      "execution_count": 265,
      "metadata": {
        "id": "jQ2PBChQE0lD"
      },
      "outputs": [
        {
          "name": "stdout",
          "output_type": "stream",
          "text": [
            "Random Agent average steps for 5x5 grid: 229.38\n",
            "Random Agent average cleaned tiles for 5x5 grid: 3.19\n",
            "Reflex Agent average steps for 5x5 grid: 70.97\n",
            "Reflex Agent average cleaned tiles for 5x5 grid: 4.05\n",
            "Model-Based Reflex Agent average steps for 5x5 grid: 17.7\n",
            "Model Agent average cleaned tiles for 5x5 grid: 3.22\n",
            "Random Agent average steps for 10x10 grid: 751.12\n",
            "Random Agent average cleaned tiles for 10x10 grid: 11.6\n",
            "Reflex Agent average steps for 10x10 grid: 488.87\n",
            "Reflex Agent average cleaned tiles for 10x10 grid: 15.34\n",
            "Model-Based Reflex Agent average steps for 10x10 grid: 86.79\n",
            "Model Agent average cleaned tiles for 10x10 grid: 11.99\n",
            "Random Agent average steps for 100x100 grid: 1000.0\n",
            "Random Agent average cleaned tiles for 100x100 grid: 22.3\n",
            "Reflex Agent average steps for 100x100 grid: 1000.0\n",
            "Reflex Agent average cleaned tiles for 100x100 grid: 63.71\n",
            "Model-Based Reflex Agent average steps for 100x100 grid: 1000.0\n",
            "Model Agent average cleaned tiles for 100x100 grid: 165.76\n"
          ]
        }
      ],
      "source": [
        "import matplotlib.pyplot as plt\n",
        "\n",
        "# Initialize lists to store the results\n",
        "grid_sizes = [5, 10, 100]\n",
        "random_steps = []\n",
        "reflex_steps = []\n",
        "model_steps = []\n",
        "random_cleaned = []\n",
        "reflex_cleaned = []\n",
        "model_cleaned = []\n",
        "\n",
        "# Perform the simulation\n",
        "for size in grid_sizes:\n",
        "    steps_random = 0\n",
        "    steps_reflex = 0\n",
        "    steps_model = 0\n",
        "    cleaned_random = 0\n",
        "    cleaned_reflex = 0\n",
        "    cleaned_model = 0\n",
        "    \n",
        "    for i in range(100):  # 100 random runs\n",
        "        reset_agent_state(size)\n",
        "\n",
        "        # Running the environment simulation for each agent\n",
        "        steps_random += environment(simple_randomized_agent, max_steps=1000, verbose=False, n=size)[1]\n",
        "        steps_reflex += environment(simple_reflex_agent, max_steps=1000, verbose=False, n=size)[1]\n",
        "        steps_model += environment(model_based_reflex_agent, max_steps=1000, verbose=False, n=size)[1]\n",
        "\n",
        "        cleaned_random += environment(simple_randomized_agent, max_steps=1000, verbose=False, n=size)[0]\n",
        "        cleaned_reflex += environment(simple_reflex_agent, max_steps=1000, verbose=False, n=size)[0]\n",
        "        cleaned_model += environment(model_based_reflex_agent, max_steps=1000, verbose=False, n=size)[0]\n",
        "\n",
        "    # Append the average values for the current grid size\n",
        "    random_steps.append(steps_random / 100)\n",
        "    reflex_steps.append(steps_reflex / 100)\n",
        "    model_steps.append(steps_model / 100)\n",
        "    random_cleaned.append(cleaned_random / 100)\n",
        "    reflex_cleaned.append(cleaned_reflex / 100)\n",
        "    model_cleaned.append(cleaned_model / 100)\n",
        "\n",
        "    # Print the results for each grid size\n",
        "    print(f\"Random Agent average steps for {size}x{size} grid: {random_steps[-1]}\")\n",
        "    print(f\"Random Agent average cleaned tiles for {size}x{size} grid: {random_cleaned[-1]}\")\n",
        "    print(f\"Reflex Agent average steps for {size}x{size} grid: {reflex_steps[-1]}\")\n",
        "    print(f\"Reflex Agent average cleaned tiles for {size}x{size} grid: {reflex_cleaned[-1]}\")\n",
        "    print(f\"Model-Based Reflex Agent average steps for {size}x{size} grid: {model_steps[-1]}\")\n",
        "    print(f\"Model Agent average cleaned tiles for {size}x{size} grid: {model_cleaned[-1]}\")\n",
        "\n"
      ]
    },
    {
      "cell_type": "markdown",
      "metadata": {
        "id": "LYZvk_PZE0lD"
      },
      "source": [
        "Fill out the following table with the average performance measure for 100 random runs (you may also create this table with code):\n",
        "\n",
        "| Size     | Randomized Agent | Simple Reflex Agent | Model-based Reflex Agent |\n",
        "|----------|------------------|---------------------|--------------------------|\n",
        "| 5x5     | 229.38| 70.97| 17.7|\n",
        "| 10x10   | 751.12| 488.87| 86.79|\n",
        "| 100x100 | 1000.0| 1000.0| 1000.0|\n",
        "\n",
        "Add charts to compare the performance of the different agents."
      ]
    },
    {
      "cell_type": "code",
      "execution_count": 266,
      "metadata": {
        "id": "bLDybSCME0lD"
      },
      "outputs": [
        {
          "data": {
            "image/png": "[encoded data removed]",
            "text/plain": [
              "<Figure size 1000x600 with 2 Axes>"
            ]
          },
          "metadata": {},
          "output_type": "display_data"
        }
      ],
      "source": [
        "# Your graphs and discussion of the results goes here\n",
        "\n",
        "# Plot the results\n",
        "plt.figure(figsize=(10, 6))\n",
        "\n",
        "# Plot steps\n",
        "plt.subplot(2, 1, 1)\n",
        "plt.plot(grid_sizes, random_steps, label=\"Randomized Agent\", marker='o')\n",
        "plt.plot(grid_sizes, reflex_steps, label=\"Simple Reflex Agent\", marker='o')\n",
        "plt.plot(grid_sizes, model_steps, label=\"Model-based Reflex Agent\", marker='o')\n",
        "plt.xlabel(\"Grid Size (n x n)\")\n",
        "plt.ylabel(\"Average Steps\")\n",
        "plt.title(\"Average Steps for Each Agent Type\")\n",
        "plt.legend()\n",
        "\n",
        "# Plot cleaned tiles\n",
        "plt.subplot(2, 1, 2)\n",
        "plt.plot(grid_sizes, random_cleaned, label=\"Randomized Agent\", marker='o')\n",
        "plt.plot(grid_sizes, reflex_cleaned, label=\"Simple Reflex Agent\", marker='o')\n",
        "plt.plot(grid_sizes, model_cleaned, label=\"Model-based Reflex Agent\", marker='o')\n",
        "plt.xlabel(\"Grid Size (n x n)\")\n",
        "plt.ylabel(\"Average Cleaned Tiles\")\n",
        "plt.title(\"Average Cleaned Tiles for Each Agent Type\")\n",
        "plt.legend()\n",
        "\n",
        "plt.tight_layout()\n",
        "plt.show()"
      ]
    },
    {
      "cell_type": "markdown",
      "metadata": {},
      "source": [
        "The results and efficiency of all models match expectations; however, steps average out at the max for all models once the enviornments grow too big because the robots only stop once there are no longer dirty tiles."
      ]
    },
    {
      "cell_type": "markdown",
      "metadata": {
        "id": "ydG_IsvAE0lD"
      },
      "source": [
        "## Task 5: Robustness of the agent implementations [10 Points]\n",
        "\n",
        "Describe how **your agent implementations** will perform\n",
        "\n",
        "* if it is put into a rectangular room with unknown size,\n",
        "* if the cleaning area can have an irregular shape (e.g., a hallway connecting two rooms), or\n",
        "* if the room contains obstacles (i.e., squares that it cannot pass through and trigger the bumper sensors).\n",
        "* if the dirt sensor is not perfect and gives 10% of the time a wrong reading (clean when it is dirty or dirty when it is clean).\n",
        "* if the bumper sensor is not perfect and 10% of the time does not report a wall when there is one."
      ]
    },
    {
      "cell_type": "markdown",
      "metadata": {},
      "source": [
        "If my agent is put into a rectangular room of unknown size it most likely only clean within the nxn grid it keeps track of. However, this is easily fixed by modifying the grid which it keeps track of. The same for the randomized agent and simple reflex agent. They need to be modified as they are programmed to operate wiithin a nxn grid. Thus, none of my agents can currently operate effectively within irregularly shaped rooms. As for obstacles, this also brings up problems since the bumpers only interprets walls with its bumpers. If the dirt sensor is not perfect and gives 10% of the time a wrong reading then my model based agent will misinterpret having cleaned the whole room. The others would not be affected by this since they act on reflex or random action and don't keep track of what tile has been traversed. Realistically, if the bumper sensor was not perfect, the agent would simply bump into the wall before it's next action in which it would probably detect the wall. In hindsight my agent implementation is not very robust but very much optimized for its square enviornment without obstacles. This is a consequence of running simulations completely in a virtual enviornment where things have to be hard coded as a means of imitating percepts.\n"
      ]
    },
    {
      "cell_type": "markdown",
      "metadata": {
        "id": "HvEBQohrE0lD"
      },
      "source": [
        "## Advanced task: Imperfect Dirt Sensor\n",
        "\n",
        "* __Graduate students__ need to complete this task [10 points]\n",
        "* __Undergraduate students__ can attempt this as a bonus task [max +5 bonus points].\n",
        "\n",
        "1. Change your simulation environment to run experiments for the following problem: The dirt sensor has a 10% chance of giving the wrong reading. Perform experiments to observe how this changes the performance of the three implementations. Your model-based reflex agent is likely not able to clean the whole room, so you need to measure performance differently as a tradeoff between energy cost and number of uncleaned squares.\n",
        "\n",
        "2. Design an implement a solution for your model-based agent that will clean better. Show the improvement with experiments."
      ]
    },
    {
      "cell_type": "code",
      "execution_count": 37,
      "metadata": {
        "id": "udvaE6YIE0lD"
      },
      "outputs": [],
      "source": [
        "# Your code and discussion goes here"
      ]
    },
    {
      "cell_type": "markdown",
      "metadata": {
        "id": "GrX6zO--E0lD"
      },
      "source": [
        "## More advanced implementation tasks\n",
        "\n",
        "* __Obstacles:__ Change your simulation environment to run experiments for the following problem: Add random obstacle squares that also trigger the bumper sensor. The agent does not know where the obstacles are. Perform experiments to observe how this changes the performance of the three implementations. Describe what would need to be done to perform better with obstacles. Add code if you can.\n",
        "\n",
        "* __Agent for and environment with obstacles:__ Implement an agent for an environment where the agent does not know how large the environment is (we assume it is rectangular), where it starts or where the obstacles are. An option would be to always move to the closest unchecked/uncleaned square (note that this is actually depth-first search).\n",
        "\n",
        "* __Utility-based agent:__ Change the environment for a $5 \\times 5$ room, so each square has a fixed probability of getting dirty again. For the implementation, we give the environment a 2-dimensional array of probabilities. The utility of a state is defined as the number of currently clean squares in the room. Implement a utility-based agent that maximizes the expected utility over one full charge which lasts for 100000 time steps. To do this, the agent needs to learn the probabilities with which different squares get dirty again. This is very tricky!"
      ]
    },
    {
      "cell_type": "code",
      "execution_count": 38,
      "metadata": {
        "id": "NJX_8BUwE0lD"
      },
      "outputs": [],
      "source": [
        "# Your ideas/code"
      ]
    }
  ],
  "metadata": {
    "colab": {
      "provenance": []
    },
    "kernelspec": {
      "display_name": "AI",
      "language": "python",
      "name": "python3"
    },
    "language_info": {
      "codemirror_mode": {
        "name": "ipython",
        "version": 3
      },
      "file_extension": ".py",
      "mimetype": "text/x-python",
      "name": "python",
      "nbconvert_exporter": "python",
      "pygments_lexer": "ipython3",
      "version": "3.9.6"
    },
    "toc-autonumbering": false
  },
  "nbformat": 4,
  "nbformat_minor": 0
}
